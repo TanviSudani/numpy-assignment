{
 "cells": [
  {
   "cell_type": "markdown",
   "id": "c2251f22",
   "metadata": {},
   "source": [
    "# Questions on NumPy Array"
   ]
  },
  {
   "cell_type": "code",
   "execution_count": 2,
   "id": "108926a8",
   "metadata": {},
   "outputs": [],
   "source": [
    "import numpy as np"
   ]
  },
  {
   "cell_type": "code",
   "execution_count": 30,
   "id": "83078a51",
   "metadata": {},
   "outputs": [
    {
     "name": "stdout",
     "output_type": "stream",
     "text": [
      "Empty array : \n",
      " [[7.57926063e-312 7.57929422e-312 7.57929422e-312 7.57929406e-312]\n",
      " [7.57929406e-312 7.57929405e-312 7.57929406e-312 7.57929406e-312]\n",
      " [7.57929406e-312 7.57929406e-312 7.57929406e-312 7.57929406e-312]]\n",
      " \n",
      " Full array : \n",
      " [[8 8 8 8]\n",
      " [8 8 8 8]]\n"
     ]
    }
   ],
   "source": [
    "# Q.1 How to create an empty and a full numpy array.\n",
    "# The empty() function in NumPy is used to create an empty array with a specified shape. An empty NumPy array is an array that \n",
    "# is initialized with arbitrary values, and its shape is determined by the user.\n",
    "# The full() function in NumPy creates an array of a given shape and fills it with a specified value. A full NumPy array is an \n",
    "# array where all the elements have the same predefined value.\n",
    "\n",
    "empty_array = np.empty((3, 4))\n",
    "print(\"Empty array : \\n\",empty_array)\n",
    "\n",
    "full_array= np.full((2, 4), 8)\n",
    "print(\" \\n Full array : \\n\" ,full_array)"
   ]
  },
  {
   "cell_type": "code",
   "execution_count": 33,
   "id": "8c1006d7",
   "metadata": {},
   "outputs": [
    {
     "name": "stdout",
     "output_type": "stream",
     "text": [
      "Array a : \n",
      " [[0. 0. 0.]\n",
      " [0. 0. 0.]\n",
      " [0. 0. 0.]]\n",
      "\n",
      " Array b : \n",
      " [[0 0 0]\n",
      " [0 0 0]\n",
      " [0 0 0]]\n"
     ]
    }
   ],
   "source": [
    "# Q.2 Create a Numpy array filled with all zeros.\n",
    "# To create an numpy array fielled with all zeros,we can use the numpy.zeros() function.\n",
    "\n",
    "a = np.zeros([3,3])  \n",
    "print(\"Array a : \\n\", a)  \n",
    "  \n",
    "b = np.zeros([3, 3], dtype = int)  \n",
    "print(\"\\n Array b : \\n\", b)  "
   ]
  },
  {
   "cell_type": "code",
   "execution_count": 2,
   "id": "2789c33b",
   "metadata": {},
   "outputs": [
    {
     "name": "stdout",
     "output_type": "stream",
     "text": [
      "Array a : \n",
      " [[1. 1. 1.]\n",
      " [1. 1. 1.]\n",
      " [1. 1. 1.]]\n",
      "\n",
      " Array b : \n",
      " [[1 1 1]\n",
      " [1 1 1]\n",
      " [1 1 1]]\n"
     ]
    }
   ],
   "source": [
    "# Q.3 Create a numpy array filled with all ones.\n",
    "# To create an array filled with all ones,given shape and type of array we can use numpy.ones() method of NumPy library in Python.\n",
    "\n",
    "a = np.ones([3,3])  \n",
    "print(\"Array a : \\n\", a)  \n",
    "  \n",
    "b = np.ones([3, 3], dtype = int)  \n",
    "print(\"\\n Array b : \\n\", b)  "
   ]
  },
  {
   "cell_type": "code",
   "execution_count": 6,
   "id": "bda1da7a",
   "metadata": {},
   "outputs": [
    {
     "name": "stdout",
     "output_type": "stream",
     "text": [
      "True\n",
      "False\n",
      "False\n",
      "True\n"
     ]
    }
   ],
   "source": [
    "# Q.4 Check weather a numpy array contains a specified row.\n",
    "# This can be done by using simple approach as checking for each row with the given list but this can be easily understood and \n",
    "# implemented by using inbuilt library functions numpy.array.tolist().If the given list is present in a array as a row then \n",
    "# the output is True else False.\n",
    "\n",
    "arr = np.array([[6,7,8,9,10], \n",
    "                [16, 17, 20, 19, 180], \n",
    "                [1, 2, 3, 4, 5], \n",
    "                [11, 12, 13, 14, 15]]) \n",
    " \n",
    "print([1, 2, 3, 4, 5] in arr.tolist())\n",
    "print([16, 17, 20, 19, 18] in arr.tolist()) \n",
    "print([3, 2, 5, -4, 5] in arr.tolist()) \n",
    "print([11, 12, 13, 14, 15] in arr.tolist()) "
   ]
  },
  {
   "cell_type": "code",
   "execution_count": 12,
   "id": "70568e3b",
   "metadata": {},
   "outputs": [
    {
     "name": "stdout",
     "output_type": "stream",
     "text": [
      "Given array:\n",
      "[[10. 22.  3.]\n",
      " [15. 98. 65.]\n",
      " [41. nan nan]]\n",
      "\n",
      "Remove all rows containing non-numeric elements\n",
      "[[10. 22.  3.]\n",
      " [15. 98. 65.]]\n"
     ]
    }
   ],
   "source": [
    "# Q.5 How to Remove rows in Numpy array that contains non-numeric values?\n",
    "# It is possible to remove all rows containing Nan values using the Bitwise NOT operator and np.isnan() function.\n",
    "\n",
    "n_arr = np.array([[10, 22, 3],\n",
    "                  [15,98,65],\n",
    "                  [41, np.nan, np.nan]]) \n",
    "  \n",
    "print(\"Given array:\") \n",
    "print(n_arr) \n",
    "  \n",
    "print(\"\\nRemove all rows containing non-numeric elements\") \n",
    "print(n_arr[~np.isnan(n_arr).any(axis=1)]) "
   ]
  },
  {
   "cell_type": "code",
   "execution_count": 2,
   "id": "09554ab2",
   "metadata": {},
   "outputs": [
    {
     "name": "stdout",
     "output_type": "stream",
     "text": [
      "Input array :  [[[2 2 2]\n",
      "  [2 2 2]]]\n",
      "Shape of input array :  (1, 2, 3)\n",
      "output squeezed array :  [[2 2 2]\n",
      " [2 2 2]]\n",
      "Shape of output array :  (2, 3)\n"
     ]
    }
   ],
   "source": [
    "# Q.6 Remove single-dimensional entries from the shape of an array.\n",
    "# numpy.squeeze() function is used when we want to remove single-dimensional entries from the shape of an array.\n",
    "\n",
    "input_arr = np.array([[[2, 2, 2], [2, 2, 2]]]) \n",
    "   \n",
    "print (\"Input array : \", input_arr)  \n",
    "print(\"Shape of input array : \", input_arr.shape)   \n",
    "  \n",
    "output_arr = np.squeeze(input_arr)  \n",
    "  \n",
    "print (\"output squeezed array : \", output_arr) \n",
    "print(\"Shape of output array : \", output_arr.shape)"
   ]
  },
  {
   "cell_type": "code",
   "execution_count": 14,
   "id": "46ed31a1",
   "metadata": {},
   "outputs": [
    {
     "name": "stdout",
     "output_type": "stream",
     "text": [
      "4\n"
     ]
    }
   ],
   "source": [
    "# Q.7 Find the number of occurrences of a sequence in a NumPy array Improve\n",
    "# The sequence is consisting of some elements in the form of a list and we have to find the number of occurrences of that \n",
    "# sequence in a given NumPy array. This can be done easily by checking the sequence for every iteration of ndarray. But this \n",
    "# leads to higher time so we use the concept of NumPy methods.\n",
    "\n",
    "arr = np.array([[2, 8, 9, 4],  \n",
    "                   [9, 4, 9, 4], \n",
    "                   [4, 5, 9, 7], \n",
    "                   [2, 9, 4, 3]]) \n",
    "output = repr(arr).count(\"9, 4\") \n",
    "print(output) "
   ]
  },
  {
   "cell_type": "code",
   "execution_count": 5,
   "id": "bce5f45e",
   "metadata": {},
   "outputs": [
    {
     "name": "stdout",
     "output_type": "stream",
     "text": [
      "Original array:\n",
      "[22 22 33 44  5 11 22 22 11 11]\n",
      "Most frequent value in the above array:\n",
      "22\n"
     ]
    }
   ],
   "source": [
    "# Q.8 Find the most frequent value in a NumPy array\n",
    "# step-1 Create a NumPy array.\n",
    "# step-2 Apply bincount() method of NumPy to get the count of occurrences of each element in the array.\n",
    "# step-3 The n, apply argmax() method to get the value having a maximum number of occurrences(frequency).\n",
    "\n",
    "a = np.array([22,22,33,44,5,11,22,22,11,11]) \n",
    "print(\"Original array:\") \n",
    "print(a) \n",
    "  \n",
    "print(\"Most frequent value in the above array:\") \n",
    "print(np.bincount(a).argmax())"
   ]
  },
  {
   "cell_type": "code",
   "execution_count": 3,
   "id": "c63b3164",
   "metadata": {},
   "outputs": [
    {
     "name": "stdout",
     "output_type": "stream",
     "text": [
      "One dimensional array:\n",
      "[0 1 2 3 4]\n",
      "\n",
      "Two dimensional array:\n",
      "[[0 1 2 3 4]\n",
      " [5 6 7 8 9]]\n",
      "0:0\n",
      "1:1\n",
      "2:2\n",
      "3:3\n",
      "4:4\n",
      "0:5\n",
      "1:6\n",
      "2:7\n",
      "3:8\n",
      "4:9\n"
     ]
    }
   ],
   "source": [
    "# Q.9 Combining a one and a two-dimensional NumPy Array\n",
    "# Numpy has a function named as numpy.nditer(), which provides this facility.\n",
    "\n",
    "num_1d = np.arange(5) \n",
    "print(\"One dimensional array:\") \n",
    "print(num_1d) \n",
    "  \n",
    "num_2d = np.arange(10).reshape(2,5) \n",
    "print(\"\\nTwo dimensional array:\") \n",
    "print(num_2d) \n",
    "  \n",
    "for a, b in np.nditer([num_1d, num_2d]): \n",
    "    print(\"%d:%d\" % (a, b),)"
   ]
  },
  {
   "cell_type": "code",
   "execution_count": 4,
   "id": "d74ae022",
   "metadata": {},
   "outputs": [
    {
     "name": "stdout",
     "output_type": "stream",
     "text": [
      "Array-1\n",
      "[1 2]\n",
      "\n",
      "Array-2\n",
      "[4 6]\n",
      "\n",
      "Combine array:\n",
      "[[1 4]\n",
      " [1 6]\n",
      " [2 4]\n",
      " [2 6]]\n"
     ]
    }
   ],
   "source": [
    "# Q.10 How to build an array of all combinations of two NumPy arrays?\n",
    "# Numpy has a function to compute the combination of 2 or more Numpy arrays named as “numpy.meshgrid()“. This function is used \n",
    "# to create a rectangular grid out of two given one-dimensional arrays representing the Cartesian indexing or Matrix indexing.\n",
    "\n",
    "array_1 = np.array([1, 2]) \n",
    "array_2 = np.array([4, 6]) \n",
    "  \n",
    "print(\"Array-1\") \n",
    "print(array_1) \n",
    "  \n",
    "print(\"\\nArray-2\") \n",
    "print(array_2) \n",
    "  \n",
    "comb_array = np.array(np.meshgrid(array_1, array_2)).T.reshape(-1, 2) \n",
    "  \n",
    "print(\"\\nCombine array:\") \n",
    "print(comb_array) "
   ]
  },
  {
   "cell_type": "markdown",
   "id": "1561f333",
   "metadata": {},
   "source": [
    "# function 1 np.arange()"
   ]
  },
  {
   "cell_type": "code",
   "execution_count": 10,
   "id": "8bf19bd0",
   "metadata": {},
   "outputs": [
    {
     "data": {
      "text/plain": [
       "array([0, 1, 2, 3, 4, 5, 6, 7, 8, 9])"
      ]
     },
     "execution_count": 10,
     "metadata": {},
     "output_type": "execute_result"
    }
   ],
   "source": [
    "# Example 1 \n",
    "# Explanation : This will create an array [0, 1, 2, 3, 4, 5, 6, 7, 8, 9, 10]. The arange() function generates values starting from 0 up to (but not including) the specified stop value, with a default step of 1.\n",
    "import numpy as np \n",
    "\n",
    "arr=np.arange(10)\n",
    "arr"
   ]
  },
  {
   "cell_type": "code",
   "execution_count": 9,
   "id": "30dbf6e0",
   "metadata": {},
   "outputs": [
    {
     "data": {
      "text/plain": [
       "array([ 3,  6,  9, 12, 15, 18, 21, 24, 27])"
      ]
     },
     "execution_count": 9,
     "metadata": {},
     "output_type": "execute_result"
    }
   ],
   "source": [
    "# Example 2 \n",
    "# This will create an array [3,6,9,12,15,18,21,24,27]. The arange() function allows specifying the start, stop, and step values. In this example, it generates values starting from 3 up to (but not including) 30, with a step of 3.\n",
    "\n",
    "arr=np.arange(3,30,3)\n",
    "arr"
   ]
  },
  {
   "cell_type": "code",
   "execution_count": 11,
   "id": "11e2119f",
   "metadata": {},
   "outputs": [
    {
     "data": {
      "text/plain": [
       "array([0.  , 0.25, 0.5 , 0.75])"
      ]
     },
     "execution_count": 11,
     "metadata": {},
     "output_type": "execute_result"
    }
   ],
   "source": [
    "# Example 3 \n",
    "# Explanation :This will produce an array [0. ,0.25 ,0.5 ,0.75 ], ensuring precise control over the number of elements and avoiding potential floating-point arithmetic errors.\n",
    "\n",
    "arr = np.arange(0,1,0.25)\n",
    "arr"
   ]
  },
  {
   "cell_type": "markdown",
   "id": "2c56a207",
   "metadata": {},
   "source": [
    "# function 2 np.sum()"
   ]
  },
  {
   "cell_type": "code",
   "execution_count": 27,
   "id": "8d6e2ccf",
   "metadata": {},
   "outputs": [
    {
     "name": "stdout",
     "output_type": "stream",
     "text": [
      "Array 1 : [1 2 3] \n",
      "Array 1 Sum : 6\n",
      "\n",
      "Array 2 : [4 5 6] \n",
      "Array 2 Sum : 15\n"
     ]
    }
   ],
   "source": [
    "# Example 1\n",
    "# Explanation : This will sum arr1 and arr2 all elements.\n",
    "\n",
    "arr1 = np.array([1, 2, 3])\n",
    "arr2 = np.array([4, 5, 6])\n",
    "\n",
    "print(\"Array 1 :\",arr1,\"\\nArray 1 Sum :\" ,arr1.sum() )\n",
    "print(\"\\nArray 2 :\",arr2,\"\\nArray 2 Sum :\" ,arr2.sum() )"
   ]
  },
  {
   "cell_type": "code",
   "execution_count": 36,
   "id": "15eb5491",
   "metadata": {},
   "outputs": [
    {
     "name": "stdout",
     "output_type": "stream",
     "text": [
      "Array 1 : [3 4 5 6]\n",
      "Array 2 : [ 7  8  9 10]\n",
      "Array 1 * Array 2 : [21 32 45 60]\n",
      "Sum of Array 1 * Array 2 : 158\n"
     ]
    }
   ],
   "source": [
    "# Example 2\n",
    "# Explanation : This will first multipled arr1 and arr2 then sum of arr1 and arr2 multiplication .\n",
    "\n",
    "arr1 = np.array([3,4,5,6])\n",
    "arr2 = np.array([7,8,9,10])\n",
    "\n",
    "print(\"Array 1 :\",arr1)\n",
    "print(\"Array 2 :\",arr2)\n",
    "\n",
    "print(\"Array 1 * Array 2 :\",arr1*arr2)\n",
    "print(\"Sum of Array 1 * Array 2 :\",(arr1*arr2).sum())"
   ]
  },
  {
   "cell_type": "code",
   "execution_count": 39,
   "id": "918af2e1",
   "metadata": {},
   "outputs": [
    {
     "name": "stdout",
     "output_type": "stream",
     "text": [
      "Array 1 : [33  4 56 89]\n",
      "Array 2 : [ 7 88 15 56]\n",
      "Array 1 * Array 2 : [ 26 -84  41  33]\n",
      "Sum of Array 1 * Array 2 : 16\n"
     ]
    }
   ],
   "source": [
    "# Example 3\n",
    "# Explanation : This will first subtraction arr1 and arr2 then sum of arr1 and arr2 subtraction.\n",
    "\n",
    "arr1 = np.array([33,4,56,89])\n",
    "arr2 = np.array([7,88,15,56])\n",
    "\n",
    "print(\"Array 1 :\",arr1)\n",
    "print(\"Array 2 :\",arr2)\n",
    "\n",
    "print(\"Array 1 * Array 2 :\",arr1-arr2)\n",
    "print(\"Sum of Array 1 * Array 2 :\",(arr1-arr2).sum())"
   ]
  },
  {
   "cell_type": "markdown",
   "id": "2b80c825",
   "metadata": {},
   "source": [
    "# function np.reshape()"
   ]
  },
  {
   "cell_type": "code",
   "execution_count": 44,
   "id": "07723593",
   "metadata": {},
   "outputs": [
    {
     "data": {
      "text/plain": [
       "array([[1, 2, 3],\n",
       "       [4, 5, 6]])"
      ]
     },
     "execution_count": 44,
     "metadata": {},
     "output_type": "execute_result"
    }
   ],
   "source": [
    "# Example 1 \n",
    "# Explanation : This will reshape the 1D array [1, 2, 3, 4, 5, 6] into a 2D array with 2 rows, with the number of columns automatically calculated to be 3.\n",
    "\n",
    "arr = np.array([1, 2, 3, 4, 5, 6])\n",
    "\n",
    "reshaped_arr = np.reshape(arr, (2, -1))\n",
    "reshaped_arr"
   ]
  },
  {
   "cell_type": "code",
   "execution_count": 41,
   "id": "61e4a370",
   "metadata": {},
   "outputs": [
    {
     "data": {
      "text/plain": [
       "array([[1, 2],\n",
       "       [3, 4],\n",
       "       [5, 6],\n",
       "       [7, 8]])"
      ]
     },
     "execution_count": 41,
     "metadata": {},
     "output_type": "execute_result"
    }
   ],
   "source": [
    "# Exampele 2\n",
    "# Explanation: This will reshape the 1D array [1, 2, 3, 4, 5, 6, 7, 8] into a 2D array with 4 rows. The -1 in the shape tuple allows NumPy to automatically calculate the number of columns needed to maintain the total number of elements.\n",
    "\n",
    "arr = np.array([1, 2, 3, 4, 5, 6, 7, 8])\n",
    "\n",
    "reshaped_arr = np.reshape(arr, (4, -1))\n",
    "reshaped_arr"
   ]
  },
  {
   "cell_type": "code",
   "execution_count": 42,
   "id": "89766b53",
   "metadata": {},
   "outputs": [
    {
     "data": {
      "text/plain": [
       "array([1, 2, 3, 4, 5, 6])"
      ]
     },
     "execution_count": 42,
     "metadata": {},
     "output_type": "execute_result"
    }
   ],
   "source": [
    "# Exampele 3 \n",
    "# Explanation: This will reshape the 2D array [[1, 2, 3], [4, 5, 6]] into a 1D array [1, 2, 3, 4, 5, 6].\n",
    "\n",
    "arr = np.array([[1, 2, 3], [4, 5, 6]])\n",
    "\n",
    "arr = np.reshape(arr, 6)\n",
    "arr"
   ]
  },
  {
   "cell_type": "markdown",
   "id": "127cc4d5",
   "metadata": {},
   "source": [
    "# function 4 np.zeros()"
   ]
  },
  {
   "cell_type": "code",
   "execution_count": 52,
   "id": "208b6120",
   "metadata": {},
   "outputs": [
    {
     "name": "stdout",
     "output_type": "stream",
     "text": [
      "[[0. 0.]\n",
      " [0. 0.]\n",
      " [0. 0.]]\n"
     ]
    }
   ],
   "source": [
    "# Example 1 \n",
    "# Explanation: This will create a 2D array with 3 rows and 2 columns filled with zeros, stored in Fortran (column-major) order instead of the default C (row-major) order.\n",
    "\n",
    "arr = np.zeros((3, 2), order='F')\n",
    "print(arr)"
   ]
  },
  {
   "cell_type": "code",
   "execution_count": 51,
   "id": "78e362b4",
   "metadata": {},
   "outputs": [
    {
     "name": "stdout",
     "output_type": "stream",
     "text": [
      "[0 0 0 0 0]\n"
     ]
    }
   ],
   "source": [
    "# Example 2 \n",
    "#Explanation: This will create a 1D array filled with integer zeros instead of the default floating-point zeros.\n",
    "\n",
    "arr = np.zeros(5, dtype=int)\n",
    "print(arr)"
   ]
  },
  {
   "cell_type": "code",
   "execution_count": 46,
   "id": "7c326619",
   "metadata": {},
   "outputs": [
    {
     "name": "stdout",
     "output_type": "stream",
     "text": [
      "[[[0. 0. 0. 0.]\n",
      "  [0. 0. 0. 0.]\n",
      "  [0. 0. 0. 0.]]\n",
      "\n",
      " [[0. 0. 0. 0.]\n",
      "  [0. 0. 0. 0.]\n",
      "  [0. 0. 0. 0.]]]\n"
     ]
    }
   ],
   "source": [
    "# Example 3 \n",
    "# Explanation: This will create a 3D array with dimensions 2x3x4, all filled with zeros. It has 2 matrices, each with 3 rows and 4 columns, resulting in a shape of (2, 3, 4).\n",
    "\n",
    "\n",
    "arr = np.zeros((2, 3, 4))\n",
    "print(arr)\n"
   ]
  },
  {
   "cell_type": "markdown",
   "id": "4bce4d3f",
   "metadata": {},
   "source": [
    "# function 5 np.std()"
   ]
  },
  {
   "cell_type": "code",
   "execution_count": 53,
   "id": "525cb2e6",
   "metadata": {},
   "outputs": [
    {
     "name": "stdout",
     "output_type": "stream",
     "text": [
      "1.4142135623730951\n"
     ]
    }
   ],
   "source": [
    "# Example 1\n",
    "# Explanation: This will calculate the standard deviation of the 1D array [1, 2, 3, 4, 5]. The standard deviation is a measure of the amount of variation or dispersion of a set of values. In this example, it computes the standard deviation of the elements in the array.\n",
    "\n",
    "arr = np.array([1, 2, 3, 4, 5])\n",
    "\n",
    "std = np.std(arr)\n",
    "\n",
    "print(std)"
   ]
  },
  {
   "cell_type": "code",
   "execution_count": 54,
   "id": "37d5057d",
   "metadata": {},
   "outputs": [
    {
     "name": "stdout",
     "output_type": "stream",
     "text": [
      "[1.5 1.5 1.5]\n"
     ]
    }
   ],
   "source": [
    "# Example 2 \n",
    "# Explanation: This will calculate the standard deviation along the columns (axis=0) of the 2D array [[1, 2, 3], [4, 5, 6]]. It computes the standard deviation for each column separately and returns an array containing the standard deviation values for each column.\n",
    "\n",
    "arr = np.array([[1, 2, 3], [4, 5, 6]])\n",
    "\n",
    "std = np.std(arr, axis=0)\n",
    "\n",
    "print(std)"
   ]
  },
  {
   "cell_type": "code",
   "execution_count": 55,
   "id": "49ccbf69",
   "metadata": {},
   "outputs": [
    {
     "name": "stdout",
     "output_type": "stream",
     "text": [
      "[0.70710678 0.70710678 0.70710678]\n"
     ]
    }
   ],
   "source": [
    "# Exampale 3 \n",
    "# Explanation: This will compute the sample standard deviation along the rows (axis=1) of the 2D array [[1, 2], [3, 4], [5, 6]] with degrees of freedom (ddof) set to 1. It computes the standard deviation for each row separately, considering each row as a sample.\n",
    "\n",
    "arr = np.array([[1, 2], [3, 4], [5, 6]])\n",
    "\n",
    "std = np.std(arr, axis=1, ddof=1)\n",
    "print(std)\n"
   ]
  }
 ],
 "metadata": {
  "kernelspec": {
   "display_name": "Python 3 (ipykernel)",
   "language": "python",
   "name": "python3"
  },
  "language_info": {
   "codemirror_mode": {
    "name": "ipython",
    "version": 3
   },
   "file_extension": ".py",
   "mimetype": "text/x-python",
   "name": "python",
   "nbconvert_exporter": "python",
   "pygments_lexer": "ipython3",
   "version": "3.10.9"
  }
 },
 "nbformat": 4,
 "nbformat_minor": 5
}
